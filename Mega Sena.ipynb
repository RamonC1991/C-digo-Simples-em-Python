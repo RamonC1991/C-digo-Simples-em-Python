{
  "nbformat": 4,
  "nbformat_minor": 0,
  "metadata": {
    "colab": {
      "provenance": [],
      "authorship_tag": "ABX9TyNQoDghenIAUkVCq25Th2qm",
      "include_colab_link": true
    },
    "kernelspec": {
      "name": "python3",
      "display_name": "Python 3"
    },
    "language_info": {
      "name": "python"
    }
  },
  "cells": [
    {
      "cell_type": "markdown",
      "metadata": {
        "id": "view-in-github",
        "colab_type": "text"
      },
      "source": [
        "<a href=\"https://colab.research.google.com/github/RamonC1991/C-digo-Simples-em-Python/blob/main/Mega%20Sena.ipynb\" target=\"_parent\"><img src=\"https://colab.research.google.com/assets/colab-badge.svg\" alt=\"Open In Colab\"/></a>"
      ]
    },
    {
      "cell_type": "code",
      "execution_count": 5,
      "metadata": {
        "colab": {
          "base_uri": "https://localhost:8080/"
        },
        "id": "5KnavDMqzXRF",
        "outputId": "de05ca5f-370c-48d9-db92-9efcc5af2667"
      },
      "outputs": [
        {
          "output_type": "stream",
          "name": "stdout",
          "text": [
            "[54, 27, 13, 57, 30, 24]\n"
          ]
        }
      ],
      "source": [
        "import random\n",
        "\n",
        "lista = []\n",
        "\n",
        "tamanho_lista = 10\n",
        "i = 0\n",
        "while i < 6:\n",
        "    lista.append(random.randint(1,60))\n",
        "    i = i + 1\n",
        "\n",
        "# Printando lista\n",
        "print(lista)"
      ]
    }
  ]
}